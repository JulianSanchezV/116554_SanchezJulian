# -*- coding: utf-8 -*-
"""
Created on Mon Jan 27 17:26:46 2020

@author: jsv96
"""
"""
Taller 1 - PROGRAMACIÓN DE COMPUTADORES
Julian Sanchez Valencia
Codigo 116554
"""

from random import randint
import sys


#%% Ejercicio 1

numero = float(input("Digite un número: "))

if numero >= 0:
    vabsoluto = numero

    print("El valor absoluto del numero es ",vabsoluto,"")

else:
    vabsoluto = numero * -1

    print("El valor absoluto del número es ",vabsoluto,"")


#%% Ejercicio 2

num1 = int(input("Escriba el primer numero: "))
num2 = int(input("Escriba el segundo numero: "))

a = 0
n = num1 - num2

for i in range(1,n+1):
    if(n % i==0):
        a = a+1

if(a!=2):
    print("La magnitud de la diferencia entre los dos numeros no es primo")

else:
    print("La magnitud de la diferencia entre los dos numeros si es primo")


#%% Ejercicio 3

def multiplo(valor, multiplo):

    resto = valor % multiplo

    if resto == 0:
        return True
    else:
        return False

multiplos_3=[]
multiplos_4=[]

for i in range(1,101):

    if multiplo(i,3):
        multiplos_3.append(i)
        
    elif multiplo(i,4):
        multiplos_4.append(i)

print ("Los multiplos de 3 son:",multiplos_3,)
print()
print ("Los multiplos de 4 son:",multiplos_4,)




#%% Ejercicio 5
    
vocales = ['A','E','I','O','U','Á','É','Í','Ó','U']

frase = str(input("Escriba una frase: "))

def contador_vocales_mayus(texto):
    cont = 0
    for i in vocales:
        for j in frase:
            if (i==j):
                cont+=1
                       
    print("El número de vocales mayúsculas es: ",cont,)
    
contador_vocales_mayus(frase)

tildes = ['á','e','í','ó','ú','Á','É','Í','Ó','Ú']

def contador_tildes(texto):
    cont = 0
    for i in tildes:
        for j in frase:
            if (i==j):
                cont+=1   
                
    print("El número de tildes es: ",cont,)

contador_tildes(frase)

def contador_digitos(texto):
    cont = 0
    
    for i in frase:
        if(i.isalpha()):
            cont+=1
    print("El número de digitos en es: ",cont)
    
contador_digitos(frase)

def contador_espacios(texto):
    cont = 0    
    for a in frase:
        if (a.isspace()) == True: 
            cont+=1
    print("El número de espacios que hay es: ",cont,)
        
contador_espacios(frase)

#%% Ejercicio 6

frase = str(input("Escriba una frase: "))

convertir_lista = list(frase)

lista_ordenada = convertir_lista.sort()

print("La cadena: ",frase,", ordenada alfabeticamente es: ")

for i in convertir_lista:
    sys.stdout.write(i)

#%% Ejercicio 7

lista1 = [1,2,3,4,5,6,8]

if lista1 != sorted(lista1): 
            print("La lista no está ordenada.")
                
else:        
    print("La lista está ordenada")
    
agreg = int(input("Ingrese un valor: "))

lista1.insert(agreg-1, agreg)

print("La lista nueva es: ",lista1)


#%% Ejercicio 8

lista = []

agreg = int(input("¿Cuántos elementos desea agregar a la lista? "))

for i in range(agreg):
    agregados = int(input("Ingrese el elemento: "))
    lista.append(agregados)
    lista.sort()
print("La lista ordenada es: ",lista)

print("El segundo número mayor es: ",lista[2])

    
#%% Ejercicio 11

def rectangulo(ancho, alto, simbolo):
    for i in range(alto):
        for j in range(ancho):
            print(simbolo, end="")
        print()

anchura = int(input("Escriba la anchura del rectángulo: "))
altura = int(input("Escriba la altura del rectángulo: "))
caracter = input("¿Qué carácter desea utilizar? ")
rectangulo(anchura, altura, caracter)

#%% Ejercicio 12

anchura = int(input("Escriba la anchura del triángulo: "))

for i in range(1, anchura + 1):
    for j in range(i):
        print("*", end="")
    print()

for i in range(1, anchura):
    for j in range(anchura - i):
        print("*", end="")
    print()



#%% Ejercicio 13

print("Solucionador de años bisiestos")
fecha = int(input("Escriba un año: "))

if fecha % 400 == 0 or (fecha % 100 != 0 and fecha % 4 == 0):
    print("El año", fecha, "es un año bisiesto.")
else:
    print("El año", fecha, "no es un año bisiesto.")


#%% Ejercicio 14


def resultado():

    print("¿Cuál es el resultado de las siguientes operaciones?")

    correctas = 0

    while correctas < 5:
        uno = randint(1, 101)
        dos = randint(1, 101)
        respuesta = int(input(f"{uno} + {dos} = "))

        if respuesta == uno + dos:
            correctas += 1
            print("Correcto")

        else:
            print("Incorrecto")
        print()

    print("FIN.")


resultado()


